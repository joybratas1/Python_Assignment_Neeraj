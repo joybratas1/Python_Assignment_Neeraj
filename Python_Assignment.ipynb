{
  "nbformat": 4,
  "nbformat_minor": 0,
  "metadata": {
    "colab": {
      "name": "Python Assignment",
      "provenance": [],
      "authorship_tag": "ABX9TyPbxSzJ3V+FubxFsOVQWdlw",
      "include_colab_link": true
    },
    "kernelspec": {
      "name": "python3",
      "display_name": "Python 3"
    },
    "language_info": {
      "name": "python"
    }
  },
  "cells": [
    {
      "cell_type": "markdown",
      "metadata": {
        "id": "view-in-github",
        "colab_type": "text"
      },
      "source": [
        "<a href=\"https://colab.research.google.com/github/joybratas1/Python_Assignment_Neeraj/blob/main/Python_Assignment.ipynb\" target=\"_parent\"><img src=\"https://colab.research.google.com/assets/colab-badge.svg\" alt=\"Open In Colab\"/></a>"
      ]
    },
    {
      "cell_type": "markdown",
      "metadata": {
        "id": "4jRk8GJUyIHE"
      },
      "source": [
        "** pgdba_cds2018_assignment_1"
      ]
    },
    {
      "cell_type": "markdown",
      "metadata": {
        "id": "31uGxMHNyMGF"
      },
      "source": [
        "Answer 1"
      ]
    },
    {
      "cell_type": "code",
      "metadata": {
        "colab": {
          "base_uri": "https://localhost:8080/"
        },
        "id": "xx_lp1ivyPo2",
        "outputId": "90025593-26cc-4544-e9a0-af92a0f6b995"
      },
      "source": [
        "print (\"enter your Name:\")\n",
        "x= input()\n",
        "print(\"\\n\")\n",
        "print(\"Hey! \" + x + \" welcome to the Python World\")"
      ],
      "execution_count": 2,
      "outputs": [
        {
          "output_type": "stream",
          "text": [
            "enter your Name:\n",
            "Neeraj\n",
            "\n",
            "\n",
            "Hey! Neeraj welcome to the Python World\n"
          ],
          "name": "stdout"
        }
      ]
    },
    {
      "cell_type": "markdown",
      "metadata": {
        "id": "4y9DqV-Ky8c8"
      },
      "source": [
        "Answer 2"
      ]
    },
    {
      "cell_type": "code",
      "metadata": {
        "colab": {
          "base_uri": "https://localhost:8080/"
        },
        "id": "itHOxnyjy9k7",
        "outputId": "31cd44c3-12be-4d9e-f5b0-b6c56872332b"
      },
      "source": [
        "x,y= input(\"Enter the 2 Numbers: \").split()\n",
        "print(\"\\nThe first number is {} and second number is {} .\".format(x,y))\n",
        "if(x<y):\n",
        "  print(\"True\")"
      ],
      "execution_count": 9,
      "outputs": [
        {
          "output_type": "stream",
          "text": [
            "Enter the 2 Numbers: 2 4\n",
            "\n",
            "The first number is 2 and second number is 4 .\n",
            "True\n"
          ],
          "name": "stdout"
        }
      ]
    },
    {
      "cell_type": "markdown",
      "metadata": {
        "id": "C9B1pcc00Pnm"
      },
      "source": [
        "Answer 3 and 4"
      ]
    },
    {
      "cell_type": "code",
      "metadata": {
        "colab": {
          "base_uri": "https://localhost:8080/"
        },
        "id": "QIM7uySu0QxG",
        "outputId": "8f80c83e-28ec-41f2-d52f-06212c322937"
      },
      "source": [
        "#x,y,z= input(\"Enter the 3 Numbers: \").split()   you can use split() also\n",
        "a, b, c= [int(x) for x in input(\"Enter the 3 Numbers :\").split()]\n",
        "print(\"\\nThe numbers are {}, {} and {} for 3rd Answer\".format(a,b,c))\n",
        "#For 3rd Answer use this if-\n",
        "if(a<b and a<c):\n",
        "  print(\"True\")\n",
        "\n",
        "#for 4th Answer Just remove the  # from below\n",
        "\n",
        "#a, b, c= [int(x) for x in input(\"Enter the 3 Numbers :\").split()]\n",
        "#print(\"\\nThe numbers are {}, {} and {} for 4th Answer\".format(a,b,c))\n",
        "\n",
        "#if(a<b or a<c):\n",
        "  #print(\"True\")  \n"
      ],
      "execution_count": 42,
      "outputs": [
        {
          "output_type": "stream",
          "text": [
            "Enter the 3 Numbers :4 10 9\n",
            "\n",
            "The numbers are 4, 10 and 9 for 3rd Answer\n",
            "True\n",
            "<class 'int'>\n"
          ],
          "name": "stdout"
        }
      ]
    },
    {
      "cell_type": "markdown",
      "metadata": {
        "id": "T4Pqyb221-OL"
      },
      "source": [
        "Answer 5"
      ]
    },
    {
      "cell_type": "code",
      "metadata": {
        "colab": {
          "base_uri": "https://localhost:8080/"
        },
        "id": "wMcpAtDo3G4J",
        "outputId": "779e034f-b6bf-4fbd-85e9-cd93918648c2"
      },
      "source": [
        "\n",
        "p, q, r= input(\"Enter the 3 Numbers\").split()\n",
        "and_op = int(p) & int(q)  #Bitwise & Operation\n",
        "print(\"\\nThe Bitwise AND Operation on {} {} gives: {} \".format(p, q, and_op) )\n"
      ],
      "execution_count": 49,
      "outputs": [
        {
          "output_type": "stream",
          "text": [
            "Enter the 3 Numbers4 10 15\n",
            "\n",
            "The Bitwise AND Operation on 4 10 gives: 0 \n"
          ],
          "name": "stdout"
        }
      ]
    },
    {
      "cell_type": "code",
      "metadata": {
        "colab": {
          "base_uri": "https://localhost:8080/"
        },
        "id": "CBBv2RY61_Sy",
        "outputId": "6f630ef3-1621-4a65-d752-521d4a414484"
      },
      "source": [
        "#Two's Complement\n",
        "# Returns '0' for '1' and '1' for '0'\n",
        "def flip(c):\n",
        "    return '1' if (c == '0') else '0'\n",
        " \n",
        "# Print 1's and 2's complement of\n",
        "# binary number represented by \"bin\"\n",
        "def printOneAndTwosComplement(bin):\n",
        " \n",
        "    n = len(bin)\n",
        "    ones = \"\"\n",
        "    twos = \"\"\n",
        "     \n",
        "    # for ones complement flip every bit\n",
        "    for i in range(n):\n",
        "        ones += flip(bin[i])\n",
        " \n",
        "    # for two's complement go from right\n",
        "    # to left in ones complement and if\n",
        "    # we get 1 make, we make them 0 and\n",
        "    # keep going left when we get first\n",
        "    # 0, make that 1 and go out of loop\n",
        "    ones = list(ones.strip(\"\"))\n",
        "    twos = list(ones)\n",
        "    for i in range(n - 1, -1, -1):\n",
        "     \n",
        "        if (ones[i] == '1'):\n",
        "            twos[i] = '0'\n",
        "        else:        \n",
        "            twos[i] = '1'\n",
        "            break\n",
        " \n",
        "    i -= 1   \n",
        "    # If No break : all are 1 as in 111 or 11111\n",
        "    # in such case, add extra 1 at beginning\n",
        "    if (i == -1):\n",
        "        twos.insert(0, '1')\n",
        " \n",
        "    #print(\"1's complement: \", *ones, sep = \"\")\n",
        "    print(\"2's complement: \", *twos, sep = \"\")\n",
        "def decimalToBinary(n):\n",
        "    return \"{0:08b}\".format(int(n))    \n",
        "# Driver Code\n",
        "if __name__ == '__main__':\n",
        "    new= decimalToBinary(r)\n",
        "    bin = str(new)\n",
        "    print(\"The 2's Complement of {} with binary equivalent {} is- :\".format(r,new))    \n",
        "    printOneAndTwosComplement(bin.strip(\"\"))"
      ],
      "execution_count": 53,
      "outputs": [
        {
          "output_type": "stream",
          "text": [
            "The 2's Complement of 15 with binary equivalent 00001111 is- :\n",
            "2's complement: 11110001\n"
          ],
          "name": "stdout"
        }
      ]
    },
    {
      "cell_type": "markdown",
      "metadata": {
        "id": "dEnO_wvjGJ0H"
      },
      "source": [
        "Answer 6"
      ]
    },
    {
      "cell_type": "code",
      "metadata": {
        "colab": {
          "base_uri": "https://localhost:8080/"
        },
        "id": "OSCI7o55HH5i",
        "outputId": "136f8331-80ed-420a-ef2c-c8676f1306b7"
      },
      "source": [
        "n = int(input(\"Enter the non-negative input\"))\n",
        "while(int(n)<=0):\n",
        "  print(\"Enter the number again:\")\n",
        "  n=int(input())\n",
        "print(\"\\nThe operations on {} are:\".format(n))\n",
        "print(\"(i) 10th Root of {} is: {}\".format(n,round((n**(1/10)),3)))\n",
        "print(\"(ii) Square Root of {} is: {}\".format(n,round((n**(1/2)),3)))\n",
        "print(\"(iii) N is:\", n)\n",
        "print(\"(iv) Square of {}: {}\".format(n,(n**2)))\n",
        "print(\"(v) Cube of {} : {}\".format(n,(n**3)))\n",
        "print(\"(vi) 2 to the power {} is : {}\".format(n,(2**n)))\n",
        "print(\"(vii) 10 to the power {} is : {}\".format(n,(10**n)))"
      ],
      "execution_count": 81,
      "outputs": [
        {
          "output_type": "stream",
          "text": [
            "Enter the non-negative input10\n",
            "\n",
            "The operations on 10 are:\n",
            "(i) 10th Root of 10 is: 1.259\n",
            "(ii) Square Root of 10 is: 3.162\n",
            "(iii) N is: 10\n",
            "(iv) Square of 10: 100\n",
            "(v) Cube of 10 : 1000\n",
            "(vi) 2 to the power 10 is : 1024\n",
            "(vii) 10 to the power 10 is : 10000000000\n"
          ],
          "name": "stdout"
        }
      ]
    },
    {
      "cell_type": "markdown",
      "metadata": {
        "id": "MJ0AvvkDLfZn"
      },
      "source": [
        "Answer 7"
      ]
    },
    {
      "cell_type": "code",
      "metadata": {
        "id": "5TGeFuc5LhLv"
      },
      "source": [
        "import pandas as pd\n",
        "import datetime\n",
        "from datetime import date\n",
        "\n"
      ],
      "execution_count": 128,
      "outputs": []
    },
    {
      "cell_type": "code",
      "metadata": {
        "colab": {
          "base_uri": "https://localhost:8080/"
        },
        "id": "xp_AaPxWMaYz",
        "outputId": "22980357-dbce-4948-e9b0-8946116024f6"
      },
      "source": [
        "year_1, year_2 = (input('Enter The two years').split())\n",
        "month_1, month_2 = (input('Enter two months between 1-12').split())\n",
        "day_1, day_2 = (input('Enter two  days between 1-31:').split())\n",
        "date1 = datetime.datetime(int(year_1), int(month_1), int(day_1))\n",
        "date2 = datetime.datetime(int(year_2), int(month_2), int(day_2))\n",
        "\n",
        "days = date2 - date1\n",
        "dt = pd.to_datetime(date1, format='%Y/%m/%d')\n",
        "dt1 = pd.to_datetime(date2, format='%Y/%m/%d')\n",
        "\n",
        "\n",
        "print(\"The total Number of Days in between the two Days are:\")\n",
        "(dt1-dt).days"
      ],
      "execution_count": 129,
      "outputs": [
        {
          "output_type": "stream",
          "text": [
            "Enter The two years2019 2020\n",
            "Enter two months between 1-1212 1\n",
            "Enter two  days between 1-31:31 31\n",
            "The total Number of Days in between the two Days are-:\n"
          ],
          "name": "stdout"
        },
        {
          "output_type": "execute_result",
          "data": {
            "text/plain": [
              "31"
            ]
          },
          "metadata": {
            "tags": []
          },
          "execution_count": 129
        }
      ]
    },
    {
      "cell_type": "markdown",
      "metadata": {
        "id": "ByhW-__PVSk3"
      },
      "source": [
        "\n",
        "\n",
        "\n",
        "."
      ]
    },
    {
      "cell_type": "markdown",
      "metadata": {
        "id": "mK-gMi3XVW4h"
      },
      "source": [
        "## pgdba_cds2018_assignment_2"
      ]
    },
    {
      "cell_type": "markdown",
      "metadata": {
        "id": "30RJtb09VdxV"
      },
      "source": [
        "Answer 1"
      ]
    },
    {
      "cell_type": "code",
      "metadata": {
        "colab": {
          "base_uri": "https://localhost:8080/"
        },
        "id": "xzUyCOZJVfpP",
        "outputId": "8470ae77-f2af-40cb-8e90-9dbc1907e59e"
      },
      "source": [
        "n = input(\"Enter the Number:\")\n",
        "while(int(n)<0):\n",
        "  print(\"Enter the number again:\")\n",
        "  n=int(input())\n",
        "print(\"The Binary equivalent is {0:b}\".format(int(n)))"
      ],
      "execution_count": 138,
      "outputs": [
        {
          "output_type": "stream",
          "text": [
            "Enter the Number:5\n",
            "The Binary equivalent is 101\n"
          ],
          "name": "stdout"
        }
      ]
    },
    {
      "cell_type": "markdown",
      "metadata": {
        "id": "rnXULsKfWVpl"
      },
      "source": [
        "Answer 2"
      ]
    },
    {
      "cell_type": "code",
      "metadata": {
        "colab": {
          "base_uri": "https://localhost:8080/"
        },
        "id": "fl-6LtYVWWvL",
        "outputId": "52c8f110-4576-4f52-918c-311348402434"
      },
      "source": [
        "str_1 = input(\"Enter the String: \")\n",
        "print(str_1)\n",
        "dict_1 = {}\n",
        "for i in str_1:\n",
        "    if i in dict_1:\n",
        "        dict_1[i] += 1\n",
        "    else:\n",
        "        dict_1[i] = 1\n",
        "max_char = max(dict_1, key = lambda x: dict_1[x] )\n",
        "print(max_char, dict_1[max_char])"
      ],
      "execution_count": 151,
      "outputs": [
        {
          "output_type": "stream",
          "text": [
            "Enter the String: neerajkashyap\n",
            "neerajkashyap\n",
            "a 3\n"
          ],
          "name": "stdout"
        }
      ]
    },
    {
      "cell_type": "markdown",
      "metadata": {
        "id": "EnIIyNITeFxk"
      },
      "source": [
        "Answer 3"
      ]
    },
    {
      "cell_type": "code",
      "metadata": {
        "colab": {
          "base_uri": "https://localhost:8080/"
        },
        "id": "glcKOkTJeVi9",
        "outputId": "7c49cffc-dbaa-4ede-f45f-c111941ab4d4"
      },
      "source": [
        "def isPalindrome(s):\n",
        "  for i in range(0, int(len(s)/2)):\n",
        "\n",
        "        \n",
        "    if s[i] != s[len(s)-i-1]:\n",
        "      return False\n",
        "    return True\n",
        "if __name__ == '__main__':\n",
        "  new=input(\"Enter the 1st String:  \")\n",
        "  new_2= input(\"Enter the Second String:  \")\n",
        "  if(isPalindrome(new)==isPalindrome(new_2)):\n",
        "    print(\"True\")\n",
        "  else:\n",
        "    print(\"False\")\n"
      ],
      "execution_count": 168,
      "outputs": [
        {
          "output_type": "stream",
          "text": [
            "Enter the 1st String:  MALAYALAM\n",
            "Enter the Second String:  MALAYALAM\n",
            "True\n"
          ],
          "name": "stdout"
        }
      ]
    },
    {
      "cell_type": "markdown",
      "metadata": {
        "id": "hfALa6g3heO0"
      },
      "source": [
        "Answer 4"
      ]
    },
    {
      "cell_type": "code",
      "metadata": {
        "colab": {
          "base_uri": "https://localhost:8080/"
        },
        "id": "sjSwaY1NhhgW",
        "outputId": "46c68281-5b18-4f2b-d3a0-882791aa70d3"
      },
      "source": [
        "marks = int(input(\"Please Enter the Marks: \"))\n",
        "while(int(marks)<0):\n",
        "  marks = input(\"Enter the Number again\")\n",
        "  #print(marks)\n",
        "\n",
        "if(marks in range(90, 101)):\n",
        "  print(\"A\")\n",
        "elif(marks in range(80, 90)):\n",
        "  print(\"B\")\n",
        "elif(marks in range(70, 80)):\n",
        "  print(\"C\")\n",
        "elif(marks in range(60, 70)):\n",
        "  print(\"D\")\n",
        "elif(marks in range(50, 60)):\n",
        "  print(\"E\")\n",
        "else:\n",
        "  print(\"F\")"
      ],
      "execution_count": 180,
      "outputs": [
        {
          "output_type": "stream",
          "text": [
            "Please Enter the Marks: 95\n",
            "A\n"
          ],
          "name": "stdout"
        }
      ]
    },
    {
      "cell_type": "markdown",
      "metadata": {
        "id": "4M5oFOaIjlBr"
      },
      "source": [
        "Answer 5"
      ]
    },
    {
      "cell_type": "code",
      "metadata": {
        "id": "o-0k7jSajnAa"
      },
      "source": [
        ""
      ],
      "execution_count": null,
      "outputs": []
    }
  ]
}